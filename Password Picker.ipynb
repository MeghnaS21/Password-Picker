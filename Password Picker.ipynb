{
 "cells": [
  {
   "cell_type": "code",
   "execution_count": 1,
   "metadata": {},
   "outputs": [],
   "source": [
    "import random\n",
    "import string\n",
    "import tkinter as tk\n",
    "from tkinter.font import Font"
   ]
  },
  {
   "cell_type": "code",
   "execution_count": 2,
   "metadata": {},
   "outputs": [
    {
     "name": "stdout",
     "output_type": "stream",
     "text": [
      "Welcome to Password Picker !!\n"
     ]
    }
   ],
   "source": [
    "print(\"Welcome to Password Picker !!\")"
   ]
  },
  {
   "cell_type": "code",
   "execution_count": 3,
   "metadata": {},
   "outputs": [
    {
     "name": "stdout",
     "output_type": "stream",
     "text": [
      "Your new Password is Pleasantpurplebillie46/\n",
      "Your new Password is Illyellowpeter19]\n",
      "Your new Password is Dullbrownrose62;\n",
      "Would you like to try more passwords? Type y or n:y\n",
      "Your new Password is Importantbrownsam59(\n",
      "Your new Password is Grumpypinkparrot35&\n",
      "Your new Password is Pblueschool46/\n",
      "Would you like to try more passwords? Type y or n:n\n"
     ]
    }
   ],
   "source": [
    "while True:\n",
    "    for num in range(3):\n",
    "        adjective=random.choice(open('adjectives.txt').read().split()).strip()\n",
    "        noun=random.choice(open('nouns.txt').read().split()).strip()\n",
    "        num=random.randrange(0,100)\n",
    "        color=random.choice(open('colors.txt').read().split()).strip()\n",
    "        spcl_char=random.choice(string.punctuation)\n",
    "        password=adjective+color+noun+str(num)+spcl_char\n",
    "        print(\"Your new Password is %s\" %password)\n",
    "    response=input(\"Would you like to try more passwords? Type y or n:\")\n",
    "    if response=='n':\n",
    "        break"
   ]
  },
  {
   "cell_type": "code",
   "execution_count": null,
   "metadata": {},
   "outputs": [],
   "source": []
  }
 ],
 "metadata": {
  "kernelspec": {
   "display_name": "Python 3",
   "language": "python",
   "name": "python3"
  },
  "language_info": {
   "codemirror_mode": {
    "name": "ipython",
    "version": 3
   },
   "file_extension": ".py",
   "mimetype": "text/x-python",
   "name": "python",
   "nbconvert_exporter": "python",
   "pygments_lexer": "ipython3",
   "version": "3.7.3"
  }
 },
 "nbformat": 4,
 "nbformat_minor": 2
}
